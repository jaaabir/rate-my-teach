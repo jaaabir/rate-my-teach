{
 "cells": [
  {
   "cell_type": "code",
   "execution_count": 1,
   "metadata": {},
   "outputs": [
    {
     "data": {
      "text/plain": [
       "True"
      ]
     },
     "execution_count": 1,
     "metadata": {},
     "output_type": "execute_result"
    }
   ],
   "source": [
    "import json \n",
    "import os \n",
    "import dotenv \n",
    "from pinecone import Pinecone, ServerlessSpec\n",
    "# from transformers import pipeline\n",
    "\n",
    "dotenv.load_dotenv()"
   ]
  },
  {
   "cell_type": "code",
   "execution_count": 2,
   "metadata": {},
   "outputs": [],
   "source": [
    "from transformers import pipeline\n",
    "import numpy as np"
   ]
  },
  {
   "cell_type": "code",
   "execution_count": 3,
   "metadata": {},
   "outputs": [
    {
     "data": {
      "text/plain": [
       "{'Rank': 1,\n",
       " 'Institution Name': 'Massachusetts Institute of Technology (MIT) ',\n",
       " 'Location': 'United States',\n",
       " 'Size': 'M',\n",
       " 'Academic Reputation': 100.0,\n",
       " 'Employer Reputation': 100.0,\n",
       " 'Faculty Student': 100.0,\n",
       " 'Citations per Faculty': 100.0,\n",
       " 'International Faculty': 99.3,\n",
       " 'International Students': 86.8,\n",
       " 'International Research Network': 96.0,\n",
       " 'Employment Outcomes': 100.0,\n",
       " 'Sustainability': 99.0,\n",
       " 'Overall': 100,\n",
       " 'review': 'Massachusetts Institute of Technology (MIT)  is a top-ranked university.\\nLocated in United States, it offers a unique learning experience.\\nAcademically, it has a strong reputation, ranking 1 globally.\\nEmployers highly value its graduates, with a reputation score of 100.0.\\nThe faculty-to-student ratio is 100.0, allowing for close mentorship.\\nFaculty members are highly productive, with an average of 100.0 citations per year.\\nThe university has a diverse community, with 99.3 international faculty members and 86.8 international students.\\nIt has a strong international research network, with collaborations in 96.0 countries.\\nGraduates have a high employment rate, with 100.0% of graduates employed within six months.\\nThe university prioritizes sustainability, with a score of 99.0 out of 100.\\nOverall, it has a score of 100 out of 10.\\n'}"
      ]
     },
     "execution_count": 3,
     "metadata": {},
     "output_type": "execute_result"
    }
   ],
   "source": [
    "univ_list = os.path.join('assets', 'univ_list.json')\n",
    "universities = json.load(open(univ_list, 'r'))\n",
    "universities[0]"
   ]
  },
  {
   "cell_type": "code",
   "execution_count": 4,
   "metadata": {},
   "outputs": [
    {
     "name": "stdout",
     "output_type": "stream",
     "text": [
      "univ-indexer\n",
      "sentence-transformers/all-MiniLM-L6-v2\n",
      "384\n"
     ]
    }
   ],
   "source": [
    "pinecone_api_key = os.environ['PINECONE_API_KEY']\n",
    "pc = Pinecone(api_key = pinecone_api_key)\n",
    "index_name = os.environ['PINECONE_INDEX_NAME']\n",
    "embedding_model = os.environ['EMBEDDING_MODEL']\n",
    "dimension = int(os.environ['EMBEDDING_DIMENSION'])\n",
    "\n",
    "print(index_name)\n",
    "print(embedding_model)\n",
    "print(dimension)"
   ]
  },
  {
   "cell_type": "code",
   "execution_count": 5,
   "metadata": {},
   "outputs": [
    {
     "data": {
      "text/plain": [
       "1503"
      ]
     },
     "execution_count": 5,
     "metadata": {},
     "output_type": "execute_result"
    }
   ],
   "source": [
    "len([univ['review'] for univ in universities])"
   ]
  },
  {
   "cell_type": "code",
   "execution_count": 6,
   "metadata": {},
   "outputs": [],
   "source": [
    "import torch \n",
    "from tqdm import tqdm \n",
    "import numpy as np \n",
    "\n",
    "def embed_data(data, embed_pipeline, batch_size = 32):\n",
    "    embeddings = []\n",
    "    for st_index in tqdm(range(0, len(data), batch_size), 'Embedding the reviews'):\n",
    "        batch_data = data[st_index : st_index + batch_size]\n",
    "        try:\n",
    "            with torch.no_grad():\n",
    "                embedding = embed_pipeline(batch_data)\n",
    "            embedding = [np.mean(e[0], axis = 0).tolist() for e in embedding]\n",
    "            embeddings.extend(embedding)\n",
    "        except Exception as err:\n",
    "            print(f'Error occured at the batch {st_index} - {st_index + batch_size}')\n",
    "            print(err)\n",
    "            print()\n",
    "    return embeddings"
   ]
  },
  {
   "cell_type": "code",
   "execution_count": 7,
   "metadata": {},
   "outputs": [
    {
     "name": "stderr",
     "output_type": "stream",
     "text": [
      "c:\\Users\\jaabi\\anaconda3\\envs\\rate-my-teach\\Lib\\site-packages\\transformers\\tokenization_utils_base.py:1601: FutureWarning: `clean_up_tokenization_spaces` was not set. It will be set to `True` by default. This behavior will be depracted in transformers v4.45, and will be then set to `False` by default. For more details check this issue: https://github.com/huggingface/transformers/issues/31884\n",
      "  warnings.warn(\n",
      "Embedding the reviews: 100%|██████████| 47/47 [01:23<00:00,  1.77s/it]\n"
     ]
    }
   ],
   "source": [
    "embedder = pipeline('feature-extraction', model=embedding_model)\n",
    "# Index data\n",
    "data = [univ['review'] for univ in universities]\n",
    "embeddings = embed_data(data, embedder)"
   ]
  },
  {
   "cell_type": "code",
   "execution_count": 8,
   "metadata": {},
   "outputs": [
    {
     "data": {
      "text/plain": [
       "1503"
      ]
     },
     "execution_count": 8,
     "metadata": {},
     "output_type": "execute_result"
    }
   ],
   "source": [
    "len(embeddings)"
   ]
  },
  {
   "cell_type": "code",
   "execution_count": 9,
   "metadata": {},
   "outputs": [
    {
     "data": {
      "text/plain": [
       "384"
      ]
     },
     "execution_count": 9,
     "metadata": {},
     "output_type": "execute_result"
    }
   ],
   "source": [
    "len(embeddings[3])"
   ]
  },
  {
   "cell_type": "code",
   "execution_count": 10,
   "metadata": {},
   "outputs": [],
   "source": [
    "pc.create_index(\n",
    "    name= index_name,\n",
    "    dimension=dimension, \n",
    "    metric=\"cosine\", \n",
    "    spec=ServerlessSpec(\n",
    "        cloud=\"aws\",\n",
    "        region=\"us-east-1\"\n",
    "    ) \n",
    ")"
   ]
  },
  {
   "cell_type": "code",
   "execution_count": 11,
   "metadata": {},
   "outputs": [
    {
     "data": {
      "text/plain": [
       "<pinecone.data.index.Index at 0x13505eaebd0>"
      ]
     },
     "execution_count": 11,
     "metadata": {},
     "output_type": "execute_result"
    }
   ],
   "source": [
    "uindex = pc.Index(index_name)\n",
    "uindex"
   ]
  },
  {
   "cell_type": "code",
   "execution_count": 12,
   "metadata": {},
   "outputs": [
    {
     "data": {
      "text/plain": [
       "{'Rank': 1,\n",
       " 'Institution Name': 'Massachusetts Institute of Technology (MIT) ',\n",
       " 'Location': 'United States',\n",
       " 'Size': 'M',\n",
       " 'Academic Reputation': 100.0,\n",
       " 'Employer Reputation': 100.0,\n",
       " 'Faculty Student': 100.0,\n",
       " 'Citations per Faculty': 100.0,\n",
       " 'International Faculty': 99.3,\n",
       " 'International Students': 86.8,\n",
       " 'International Research Network': 96.0,\n",
       " 'Employment Outcomes': 100.0,\n",
       " 'Sustainability': 99.0,\n",
       " 'Overall': 100,\n",
       " 'review': 'Massachusetts Institute of Technology (MIT)  is a top-ranked university.\\nLocated in United States, it offers a unique learning experience.\\nAcademically, it has a strong reputation, ranking 1 globally.\\nEmployers highly value its graduates, with a reputation score of 100.0.\\nThe faculty-to-student ratio is 100.0, allowing for close mentorship.\\nFaculty members are highly productive, with an average of 100.0 citations per year.\\nThe university has a diverse community, with 99.3 international faculty members and 86.8 international students.\\nIt has a strong international research network, with collaborations in 96.0 countries.\\nGraduates have a high employment rate, with 100.0% of graduates employed within six months.\\nThe university prioritizes sustainability, with a score of 99.0 out of 100.\\nOverall, it has a score of 100 out of 10.\\n'}"
      ]
     },
     "execution_count": 12,
     "metadata": {},
     "output_type": "execute_result"
    }
   ],
   "source": [
    "universities[0]"
   ]
  },
  {
   "cell_type": "code",
   "execution_count": 13,
   "metadata": {},
   "outputs": [],
   "source": [
    "import uuid\n",
    "\n",
    "def create_vectors(data: dict, embeddings : list) -> list:\n",
    "    vectors = []\n",
    "    for i in range(len(data)):\n",
    "        d = data[i]\n",
    "        e = embeddings[i]\n",
    "        vec = {\n",
    "            'id'     : str(uuid.uuid4()),\n",
    "            'values' : e,\n",
    "            'metadata' : d\n",
    "        }\n",
    "        vectors.append(vec)\n",
    "    return vectors"
   ]
  },
  {
   "cell_type": "code",
   "execution_count": 14,
   "metadata": {},
   "outputs": [],
   "source": [
    "vectors = create_vectors(universities, embeddings)"
   ]
  },
  {
   "cell_type": "code",
   "execution_count": 15,
   "metadata": {},
   "outputs": [
    {
     "data": {
      "text/plain": [
       "dict_keys(['id', 'values', 'metadata'])"
      ]
     },
     "execution_count": 15,
     "metadata": {},
     "output_type": "execute_result"
    }
   ],
   "source": [
    "vectors[0].keys()"
   ]
  },
  {
   "cell_type": "code",
   "execution_count": 16,
   "metadata": {},
   "outputs": [
    {
     "data": {
      "text/plain": [
       "{'Rank': 1,\n",
       " 'Institution Name': 'Massachusetts Institute of Technology (MIT) ',\n",
       " 'Location': 'United States',\n",
       " 'Size': 'M',\n",
       " 'Academic Reputation': 100.0,\n",
       " 'Employer Reputation': 100.0,\n",
       " 'Faculty Student': 100.0,\n",
       " 'Citations per Faculty': 100.0,\n",
       " 'International Faculty': 99.3,\n",
       " 'International Students': 86.8,\n",
       " 'International Research Network': 96.0,\n",
       " 'Employment Outcomes': 100.0,\n",
       " 'Sustainability': 99.0,\n",
       " 'Overall': 100,\n",
       " 'review': 'Massachusetts Institute of Technology (MIT)  is a top-ranked university.\\nLocated in United States, it offers a unique learning experience.\\nAcademically, it has a strong reputation, ranking 1 globally.\\nEmployers highly value its graduates, with a reputation score of 100.0.\\nThe faculty-to-student ratio is 100.0, allowing for close mentorship.\\nFaculty members are highly productive, with an average of 100.0 citations per year.\\nThe university has a diverse community, with 99.3 international faculty members and 86.8 international students.\\nIt has a strong international research network, with collaborations in 96.0 countries.\\nGraduates have a high employment rate, with 100.0% of graduates employed within six months.\\nThe university prioritizes sustainability, with a score of 99.0 out of 100.\\nOverall, it has a score of 100 out of 10.\\n'}"
      ]
     },
     "execution_count": 16,
     "metadata": {},
     "output_type": "execute_result"
    }
   ],
   "source": [
    "vectors[0]['metadata']"
   ]
  },
  {
   "cell_type": "code",
   "execution_count": 17,
   "metadata": {},
   "outputs": [],
   "source": [
    "def upsert_to_pinecone(vectors, indexer, batch_size = 32):\n",
    "    for i in tqdm(range(0, len(vectors), batch_size), 'Upserting vectors to pinecone'):\n",
    "        batch_vec = vectors[i : i + batch_size]\n",
    "        indexer.upsert(vectors = batch_vec)\n",
    "    print('Done ...')"
   ]
  },
  {
   "cell_type": "code",
   "execution_count": 18,
   "metadata": {},
   "outputs": [
    {
     "name": "stderr",
     "output_type": "stream",
     "text": [
      "Upserting vectors to pinecone: 100%|██████████| 16/16 [00:12<00:00,  1.25it/s]"
     ]
    },
    {
     "name": "stdout",
     "output_type": "stream",
     "text": [
      "Done ...\n"
     ]
    },
    {
     "name": "stderr",
     "output_type": "stream",
     "text": [
      "\n"
     ]
    }
   ],
   "source": [
    "upsert_to_pinecone(vectors, uindex, 100)"
   ]
  },
  {
   "cell_type": "markdown",
   "metadata": {},
   "source": [
    "#### querying "
   ]
  },
  {
   "cell_type": "code",
   "execution_count": 39,
   "metadata": {},
   "outputs": [],
   "source": [
    "embedder = pipeline('feature-extraction', model=embedding_model)\n",
    "user_query = 'get me a top ranked university located in london'\n",
    "embedding = embedder(user_query) # shape : (sentence size, embedding size)\n",
    "vec = np.mean(embedding[0], axis = 0).tolist() # shape : (embedding size)"
   ]
  },
  {
   "cell_type": "code",
   "execution_count": 40,
   "metadata": {},
   "outputs": [],
   "source": [
    "response = uindex.query(\n",
    "    vector=vec, \n",
    "    top_k=3,\n",
    "    include_metadata=True\n",
    ")['matches']"
   ]
  },
  {
   "cell_type": "code",
   "execution_count": 41,
   "metadata": {},
   "outputs": [
    {
     "data": {
      "text/plain": [
       "['London Metropolitan University',\n",
       " 'City, University of London',\n",
       " 'University of East London']"
      ]
     },
     "execution_count": 41,
     "metadata": {},
     "output_type": "execute_result"
    }
   ],
   "source": [
    "[res['metadata']['Institution Name'] for res in response]"
   ]
  }
 ],
 "metadata": {
  "kernelspec": {
   "display_name": "rate-my-teach",
   "language": "python",
   "name": "python3"
  },
  "language_info": {
   "codemirror_mode": {
    "name": "ipython",
    "version": 3
   },
   "file_extension": ".py",
   "mimetype": "text/x-python",
   "name": "python",
   "nbconvert_exporter": "python",
   "pygments_lexer": "ipython3",
   "version": "3.12.5"
  }
 },
 "nbformat": 4,
 "nbformat_minor": 2
}
